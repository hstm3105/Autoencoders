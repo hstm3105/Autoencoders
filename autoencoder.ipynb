{
 "cells": [
  {
   "cell_type": "code",
   "execution_count": 1,
   "metadata": {},
   "outputs": [
    {
     "name": "stderr",
     "output_type": "stream",
     "text": [
      "/home/harshit/anaconda3/lib/python3.6/importlib/_bootstrap.py:219: RuntimeWarning: compiletime version 3.5 of module 'tensorflow.python.framework.fast_tensor_util' does not match runtime version 3.6\n",
      "  return f(*args, **kwds)\n",
      "Using TensorFlow backend.\n"
     ]
    }
   ],
   "source": [
    "import numpy as np\n",
    "import tensorflow as tf\n",
    "import keras"
   ]
  },
  {
   "cell_type": "code",
   "execution_count": 5,
   "metadata": {},
   "outputs": [],
   "source": [
    "from keras.layers import Dense,Input\n",
    "from keras.models import Model\n",
    "from keras.datasets import mnist"
   ]
  },
  {
   "cell_type": "code",
   "execution_count": 6,
   "metadata": {},
   "outputs": [],
   "source": [
    "input_size = Input(shape=(784,)) "
   ]
  },
  {
   "cell_type": "code",
   "execution_count": 7,
   "metadata": {
    "collapsed": true
   },
   "outputs": [],
   "source": [
    "encoding_size = 32"
   ]
  },
  {
   "cell_type": "code",
   "execution_count": 8,
   "metadata": {
    "collapsed": true
   },
   "outputs": [],
   "source": [
    "encoding = Dense(encoding_size, activation = 'relu')(input_size)"
   ]
  },
  {
   "cell_type": "code",
   "execution_count": 9,
   "metadata": {
    "collapsed": true
   },
   "outputs": [],
   "source": [
    "decoding = Dense(784, activation= 'sigmoid')(encoding)"
   ]
  },
  {
   "cell_type": "code",
   "execution_count": 11,
   "metadata": {},
   "outputs": [],
   "source": [
    "encoder= Model(input_size,encoding)\n",
    "autoencoder = Model(input_size, decoding)"
   ]
  },
  {
   "cell_type": "code",
   "execution_count": 12,
   "metadata": {
    "collapsed": true
   },
   "outputs": [],
   "source": [
    "encoded_input = Input(shape=(encoding_size,))\n",
    "decoder_layer= autoencoder.layers[-1]\n",
    "decoder= Model(encoded_input,decoder_layer(encoded_input))"
   ]
  },
  {
   "cell_type": "code",
   "execution_count": 13,
   "metadata": {
    "collapsed": true
   },
   "outputs": [],
   "source": [
    "autoencoder.compile(loss='binary_crossentropy', optimizer='adadelta')"
   ]
  },
  {
   "cell_type": "code",
   "execution_count": 14,
   "metadata": {
    "collapsed": true
   },
   "outputs": [],
   "source": [
    "(x_train,_),(x_test,_)= mnist.load_data()"
   ]
  },
  {
   "cell_type": "code",
   "execution_count": 15,
   "metadata": {
    "collapsed": true
   },
   "outputs": [],
   "source": [
    "x_train= x_train.astype('float32')\n",
    "x_test= x_test.astype('float32')\n",
    "x_train/=255\n",
    "x_test/=255"
   ]
  },
  {
   "cell_type": "code",
   "execution_count": 16,
   "metadata": {
    "collapsed": true
   },
   "outputs": [],
   "source": [
    "x_train= x_train.reshape((len(x_train), np.prod(x_train.shape[1:])))\n",
    "x_test= x_test.reshape((len(x_test), np.prod(x_test.shape[1:])))"
   ]
  },
  {
   "cell_type": "code",
   "execution_count": 17,
   "metadata": {},
   "outputs": [
    {
     "name": "stdout",
     "output_type": "stream",
     "text": [
      "(60000, 784)\n"
     ]
    }
   ],
   "source": [
    "print(x_train.shape)"
   ]
  },
  {
   "cell_type": "code",
   "execution_count": 18,
   "metadata": {},
   "outputs": [
    {
     "name": "stdout",
     "output_type": "stream",
     "text": [
      "(10000, 784)\n"
     ]
    }
   ],
   "source": [
    "print(x_test.shape)"
   ]
  },
  {
   "cell_type": "code",
   "execution_count": 20,
   "metadata": {},
   "outputs": [
    {
     "name": "stdout",
     "output_type": "stream",
     "text": [
      "Train on 60000 samples, validate on 10000 samples\n",
      "Epoch 1/50\n",
      "60000/60000 [==============================] - 11s 182us/step - loss: 0.3678 - val_loss: 0.2714\n",
      "Epoch 2/50\n",
      "60000/60000 [==============================] - 10s 173us/step - loss: 0.2635 - val_loss: 0.2522\n",
      "Epoch 3/50\n",
      "60000/60000 [==============================] - 11s 175us/step - loss: 0.2420 - val_loss: 0.2302\n",
      "Epoch 4/50\n",
      "60000/60000 [==============================] - 11s 182us/step - loss: 0.2228 - val_loss: 0.2132\n",
      "Epoch 5/50\n",
      "60000/60000 [==============================] - 11s 177us/step - loss: 0.2081 - val_loss: 0.2004\n",
      "Epoch 6/50\n",
      "60000/60000 [==============================] - 11s 178us/step - loss: 0.1967 - val_loss: 0.1904\n",
      "Epoch 7/50\n",
      "60000/60000 [==============================] - 10s 170us/step - loss: 0.1878 - val_loss: 0.1825\n",
      "Epoch 8/50\n",
      "60000/60000 [==============================] - 9s 147us/step - loss: 0.1806 - val_loss: 0.1758\n",
      "Epoch 9/50\n",
      "60000/60000 [==============================] - 9s 153us/step - loss: 0.1744 - val_loss: 0.1703\n",
      "Epoch 10/50\n",
      "60000/60000 [==============================] - 9s 154us/step - loss: 0.1692 - val_loss: 0.1653\n",
      "Epoch 11/50\n",
      "60000/60000 [==============================] - 9s 152us/step - loss: 0.1646 - val_loss: 0.1610\n",
      "Epoch 12/50\n",
      "60000/60000 [==============================] - 9s 157us/step - loss: 0.1606 - val_loss: 0.1572\n",
      "Epoch 13/50\n",
      "60000/60000 [==============================] - 10s 160us/step - loss: 0.1569 - val_loss: 0.1537\n",
      "Epoch 14/50\n",
      "60000/60000 [==============================] - 9s 156us/step - loss: 0.1535 - val_loss: 0.1505\n",
      "Epoch 15/50\n",
      "60000/60000 [==============================] - 9s 158us/step - loss: 0.1505 - val_loss: 0.1475\n",
      "Epoch 16/50\n",
      "60000/60000 [==============================] - 10s 167us/step - loss: 0.1477 - val_loss: 0.1449\n",
      "Epoch 17/50\n",
      "60000/60000 [==============================] - 10s 167us/step - loss: 0.1451 - val_loss: 0.1423\n",
      "Epoch 18/50\n",
      "60000/60000 [==============================] - 10s 162us/step - loss: 0.1427 - val_loss: 0.1400\n",
      "Epoch 19/50\n",
      "60000/60000 [==============================] - 10s 171us/step - loss: 0.1404 - val_loss: 0.1378\n",
      "Epoch 20/50\n",
      "60000/60000 [==============================] - 10s 163us/step - loss: 0.1383 - val_loss: 0.1356\n",
      "Epoch 21/50\n",
      "60000/60000 [==============================] - 9s 157us/step - loss: 0.1363 - val_loss: 0.1337\n",
      "Epoch 22/50\n",
      "60000/60000 [==============================] - 10s 165us/step - loss: 0.1344 - val_loss: 0.1319\n",
      "Epoch 23/50\n",
      "60000/60000 [==============================] - 10s 164us/step - loss: 0.1325 - val_loss: 0.1300\n",
      "Epoch 24/50\n",
      "60000/60000 [==============================] - 10s 160us/step - loss: 0.1308 - val_loss: 0.1283\n",
      "Epoch 25/50\n",
      "60000/60000 [==============================] - 11s 186us/step - loss: 0.1291 - val_loss: 0.1266\n",
      "Epoch 26/50\n",
      "60000/60000 [==============================] - 11s 177us/step - loss: 0.1275 - val_loss: 0.1250\n",
      "Epoch 27/50\n",
      "60000/60000 [==============================] - 10s 173us/step - loss: 0.1259 - val_loss: 0.1234\n",
      "Epoch 28/50\n",
      "60000/60000 [==============================] - 10s 173us/step - loss: 0.1243 - val_loss: 0.1220\n",
      "Epoch 29/50\n",
      "60000/60000 [==============================] - 11s 188us/step - loss: 0.1229 - val_loss: 0.1205\n",
      "Epoch 30/50\n",
      "60000/60000 [==============================] - 11s 181us/step - loss: 0.1214 - val_loss: 0.1192\n",
      "Epoch 31/50\n",
      "60000/60000 [==============================] - 11s 185us/step - loss: 0.1201 - val_loss: 0.1178\n",
      "Epoch 32/50\n",
      "60000/60000 [==============================] - 11s 190us/step - loss: 0.1188 - val_loss: 0.1165\n",
      "Epoch 33/50\n",
      "60000/60000 [==============================] - 12s 195us/step - loss: 0.1175 - val_loss: 0.1153\n",
      "Epoch 34/50\n",
      "60000/60000 [==============================] - 11s 180us/step - loss: 0.1163 - val_loss: 0.1141\n",
      "Epoch 35/50\n",
      "60000/60000 [==============================] - 12s 192us/step - loss: 0.1152 - val_loss: 0.1131\n",
      "Epoch 36/50\n",
      "60000/60000 [==============================] - 11s 179us/step - loss: 0.1141 - val_loss: 0.1120\n",
      "Epoch 37/50\n",
      "60000/60000 [==============================] - 11s 180us/step - loss: 0.1132 - val_loss: 0.1111\n",
      "Epoch 38/50\n",
      "60000/60000 [==============================] - 11s 180us/step - loss: 0.1122 - val_loss: 0.1102\n",
      "Epoch 39/50\n",
      "60000/60000 [==============================] - 11s 179us/step - loss: 0.1113 - val_loss: 0.1093\n",
      "Epoch 40/50\n",
      "60000/60000 [==============================] - 11s 180us/step - loss: 0.1105 - val_loss: 0.1085\n",
      "Epoch 41/50\n",
      "60000/60000 [==============================] - 10s 175us/step - loss: 0.1097 - val_loss: 0.1078\n",
      "Epoch 42/50\n",
      "60000/60000 [==============================] - 11s 175us/step - loss: 0.1090 - val_loss: 0.1071\n",
      "Epoch 43/50\n",
      "60000/60000 [==============================] - 10s 172us/step - loss: 0.1083 - val_loss: 0.1064\n",
      "Epoch 44/50\n",
      "60000/60000 [==============================] - 11s 177us/step - loss: 0.1077 - val_loss: 0.1057\n",
      "Epoch 45/50\n",
      "60000/60000 [==============================] - 11s 179us/step - loss: 0.1071 - val_loss: 0.1052\n",
      "Epoch 46/50\n",
      "60000/60000 [==============================] - 10s 173us/step - loss: 0.1065 - val_loss: 0.1046\n",
      "Epoch 47/50\n",
      "60000/60000 [==============================] - 10s 174us/step - loss: 0.1059 - val_loss: 0.1041\n",
      "Epoch 48/50\n",
      "60000/60000 [==============================] - 11s 178us/step - loss: 0.1054 - val_loss: 0.1036\n",
      "Epoch 49/50\n",
      "60000/60000 [==============================] - 10s 172us/step - loss: 0.1049 - val_loss: 0.1031\n",
      "Epoch 50/50\n",
      "60000/60000 [==============================] - 11s 185us/step - loss: 0.1044 - val_loss: 0.1026\n"
     ]
    },
    {
     "data": {
      "text/plain": [
       "<keras.callbacks.History at 0x7f8658efd898>"
      ]
     },
     "execution_count": 20,
     "metadata": {},
     "output_type": "execute_result"
    }
   ],
   "source": [
    "autoencoder.fit(x_train,x_train,epochs=50,batch_size=256,validation_data=(x_test,x_test))"
   ]
  },
  {
   "cell_type": "code",
   "execution_count": 21,
   "metadata": {
    "collapsed": true
   },
   "outputs": [],
   "source": [
    "encoded_img = encoder.predict(x_test)\n",
    "decoded_img = decoder.predict(encoded_img)"
   ]
  },
  {
   "cell_type": "code",
   "execution_count": 25,
   "metadata": {},
   "outputs": [
    {
     "data": {
      "text/plain": [
       "<matplotlib.figure.Figure at 0x7f8655dcf550>"
      ]
     },
     "metadata": {},
     "output_type": "display_data"
    },
    {
     "data": {
      "image/png": "[encoded data removed]",
      "text/plain": [
       "<matplotlib.figure.Figure at 0x7f8674d2d080>"
      ]
     },
     "metadata": {},
     "output_type": "display_data"
    }
   ],
   "source": [
    "import matplotlib.pyplot as plt\n",
    "plt.figure(figsize=(20,4))\n",
    "for i in range(10):\n",
    "    sub= plt.subplot(2,10,i+1)\n",
    "    plt.imshow(x_test[i].reshape(28,28))\n",
    "    plt.gray()\n",
    "    sub.get_xaxis().set_visible(False)\n",
    "    sub.get_yaxis().set_visible(False)\n",
    "    sub= plt.subplot(2,10,i+1+10)\n",
    "    plt.imshow(decoded_img[i].reshape(28,28))\n",
    "    plt.gray()\n",
    "    sub.get_xaxis().set_visible(False)\n",
    "    sub.get_yaxis().set_visible(False)\n",
    "    \n",
    "plt.show()    "
   ]
  },
  {
   "cell_type": "code",
   "execution_count": null,
   "metadata": {
    "collapsed": true
   },
   "outputs": [],
   "source": []
  }
 ],
 "metadata": {
  "kernelspec": {
   "display_name": "Python 3",
   "language": "python",
   "name": "python3"
  },
  "language_info": {
   "codemirror_mode": {
    "name": "ipython",
    "version": 3
   },
   "file_extension": ".py",
   "mimetype": "text/x-python",
   "name": "python",
   "nbconvert_exporter": "python",
   "pygments_lexer": "ipython3",
   "version": "3.6.3"
  }
 },
 "nbformat": 4,
 "nbformat_minor": 2
}
