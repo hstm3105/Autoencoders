{
 "cells": [
  {
   "cell_type": "code",
   "execution_count": 10,
   "metadata": {},
   "outputs": [],
   "source": [
    "from keras.layers import Input, Dense, Conv2D, MaxPooling2D, UpSampling2D\n",
    "from keras.models import Model\n",
    "from keras import backend as K"
   ]
  },
  {
   "cell_type": "code",
   "execution_count": 11,
   "metadata": {
    "collapsed": true
   },
   "outputs": [],
   "source": [
    "input_img = Input(shape=(28, 28, 1))"
   ]
  },
  {
   "cell_type": "code",
   "execution_count": 12,
   "metadata": {
    "collapsed": true
   },
   "outputs": [],
   "source": [
    "x = Conv2D(16, (3, 3), activation='relu', padding='same')(input_img)\n",
    "x = MaxPooling2D((2, 2), padding='same')(x)\n",
    "x = Conv2D(8, (3, 3), activation='relu', padding='same')(x)\n",
    "x = MaxPooling2D((2, 2), padding='same')(x)\n",
    "x = Conv2D(8, (3, 3), activation='relu', padding='same')(x)\n",
    "encoding = MaxPooling2D((2, 2), padding='same')(x)\n",
    "\n",
    "\n",
    "\n",
    "x = Conv2D(8, (3, 3), activation='relu', padding='same')(encoding)\n",
    "x = UpSampling2D((2, 2))(x)\n",
    "x = Conv2D(8, (3, 3), activation='relu', padding='same')(x)\n",
    "x = UpSampling2D((2, 2))(x)\n",
    "x = Conv2D(16, (3, 3), activation='relu')(x)\n",
    "x = UpSampling2D((2, 2))(x)\n",
    "decoding = Conv2D(1, (3, 3), activation='sigmoid', padding='same')(x)"
   ]
  },
  {
   "cell_type": "code",
   "execution_count": 13,
   "metadata": {
    "collapsed": true
   },
   "outputs": [],
   "source": [
    "autoencoder = Model(input_img, decoding)\n",
    "autoencoder.compile(optimizer='adadelta', loss='binary_crossentropy')"
   ]
  },
  {
   "cell_type": "code",
   "execution_count": 14,
   "metadata": {},
   "outputs": [],
   "source": [
    "from keras.datasets import mnist\n",
    "import numpy as np\n",
    "\n",
    "(x_train, _), (x_test, _) = mnist.load_data()\n",
    "\n",
    "x_train = x_train.astype('float32') / 255.\n",
    "x_test = x_test.astype('float32') / 255.\n",
    "x_train = np.reshape(x_train, (len(x_train), 28, 28, 1))  \n",
    "x_test = np.reshape(x_test, (len(x_test), 28, 28, 1))  "
   ]
  },
  {
   "cell_type": "code",
   "execution_count": 15,
   "metadata": {},
   "outputs": [
    {
     "name": "stdout",
     "output_type": "stream",
     "text": [
      "Train on 60000 samples, validate on 10000 samples\n",
      "Epoch 1/50\n",
      "60000/60000 [==============================] - 66s 1ms/step - loss: 0.2312 - val_loss: 0.1784\n",
      "Epoch 2/50\n",
      "60000/60000 [==============================] - 63s 1ms/step - loss: 0.1634 - val_loss: 0.1510\n",
      "Epoch 3/50\n",
      "60000/60000 [==============================] - 66s 1ms/step - loss: 0.1483 - val_loss: 0.1439\n",
      "Epoch 4/50\n",
      "60000/60000 [==============================] - 66s 1ms/step - loss: 0.1398 - val_loss: 0.1365\n",
      "Epoch 5/50\n",
      "60000/60000 [==============================] - 64s 1ms/step - loss: 0.1332 - val_loss: 0.1280\n",
      "Epoch 6/50\n",
      "60000/60000 [==============================] - 65s 1ms/step - loss: 0.1284 - val_loss: 0.1272\n",
      "Epoch 7/50\n",
      "60000/60000 [==============================] - 65s 1ms/step - loss: 0.1253 - val_loss: 0.1201\n",
      "Epoch 8/50\n",
      "60000/60000 [==============================] - 65s 1ms/step - loss: 0.1224 - val_loss: 0.1202\n",
      "Epoch 9/50\n",
      "60000/60000 [==============================] - 64s 1ms/step - loss: 0.1203 - val_loss: 0.1187\n",
      "Epoch 10/50\n",
      "60000/60000 [==============================] - 65s 1ms/step - loss: 0.1186 - val_loss: 0.1165\n",
      "Epoch 11/50\n",
      "60000/60000 [==============================] - 68s 1ms/step - loss: 0.1170 - val_loss: 0.1146\n",
      "Epoch 12/50\n",
      "60000/60000 [==============================] - 64s 1ms/step - loss: 0.1154 - val_loss: 0.1142\n",
      "Epoch 13/50\n",
      "60000/60000 [==============================] - 66s 1ms/step - loss: 0.1145 - val_loss: 0.1111\n",
      "Epoch 14/50\n",
      "60000/60000 [==============================] - 67s 1ms/step - loss: 0.1133 - val_loss: 0.1096\n",
      "Epoch 15/50\n",
      "60000/60000 [==============================] - 69s 1ms/step - loss: 0.1123 - val_loss: 0.1112\n",
      "Epoch 16/50\n",
      "60000/60000 [==============================] - 66s 1ms/step - loss: 0.1116 - val_loss: 0.1097\n",
      "Epoch 17/50\n",
      "60000/60000 [==============================] - 63s 1ms/step - loss: 0.1107 - val_loss: 0.1097\n",
      "Epoch 18/50\n",
      "60000/60000 [==============================] - 66s 1ms/step - loss: 0.1102 - val_loss: 0.1082\n",
      "Epoch 19/50\n",
      "60000/60000 [==============================] - 71s 1ms/step - loss: 0.1093 - val_loss: 0.1088\n",
      "Epoch 20/50\n",
      "60000/60000 [==============================] - 64s 1ms/step - loss: 0.1086 - val_loss: 0.1080\n",
      "Epoch 21/50\n",
      "60000/60000 [==============================] - 64s 1ms/step - loss: 0.1080 - val_loss: 0.1053\n",
      "Epoch 22/50\n",
      "60000/60000 [==============================] - 64s 1ms/step - loss: 0.1074 - val_loss: 0.1081\n",
      "Epoch 23/50\n",
      "60000/60000 [==============================] - 64s 1ms/step - loss: 0.1069 - val_loss: 0.1062\n",
      "Epoch 24/50\n",
      "60000/60000 [==============================] - 67s 1ms/step - loss: 0.1067 - val_loss: 0.1058\n",
      "Epoch 25/50\n",
      "60000/60000 [==============================] - 62s 1ms/step - loss: 0.1062 - val_loss: 0.1048\n",
      "Epoch 26/50\n",
      "60000/60000 [==============================] - 62s 1ms/step - loss: 0.1061 - val_loss: 0.1036\n",
      "Epoch 27/50\n",
      "60000/60000 [==============================] - 62s 1ms/step - loss: 0.1057 - val_loss: 0.1049\n",
      "Epoch 28/50\n",
      "60000/60000 [==============================] - 62s 1ms/step - loss: 0.1056 - val_loss: 0.1046\n",
      "Epoch 29/50\n",
      "60000/60000 [==============================] - 62s 1ms/step - loss: 0.1048 - val_loss: 0.1053\n",
      "Epoch 30/50\n",
      "60000/60000 [==============================] - 62s 1ms/step - loss: 0.1049 - val_loss: 0.1060\n",
      "Epoch 31/50\n",
      "60000/60000 [==============================] - 62s 1ms/step - loss: 0.1045 - val_loss: 0.1024\n",
      "Epoch 32/50\n",
      "60000/60000 [==============================] - 62s 1ms/step - loss: 0.1043 - val_loss: 0.1021\n",
      "Epoch 33/50\n",
      "60000/60000 [==============================] - 62s 1ms/step - loss: 0.1041 - val_loss: 0.1053\n",
      "Epoch 34/50\n",
      "60000/60000 [==============================] - 62s 1ms/step - loss: 0.1038 - val_loss: 0.1028\n",
      "Epoch 35/50\n",
      "60000/60000 [==============================] - 62s 1ms/step - loss: 0.1039 - val_loss: 0.1031\n",
      "Epoch 36/50\n",
      "60000/60000 [==============================] - 62s 1ms/step - loss: 0.1035 - val_loss: 0.1017\n",
      "Epoch 37/50\n",
      "60000/60000 [==============================] - 62s 1ms/step - loss: 0.1034 - val_loss: 0.1014\n",
      "Epoch 38/50\n",
      "60000/60000 [==============================] - 62s 1ms/step - loss: 0.1032 - val_loss: 0.1012\n",
      "Epoch 39/50\n",
      "60000/60000 [==============================] - 62s 1ms/step - loss: 0.1028 - val_loss: 0.1012\n",
      "Epoch 40/50\n",
      "60000/60000 [==============================] - 62s 1ms/step - loss: 0.1029 - val_loss: 0.1006\n",
      "Epoch 41/50\n",
      "60000/60000 [==============================] - 62s 1ms/step - loss: 0.1025 - val_loss: 0.1015\n",
      "Epoch 42/50\n",
      "60000/60000 [==============================] - 62s 1ms/step - loss: 0.1021 - val_loss: 0.1006\n",
      "Epoch 43/50\n",
      "60000/60000 [==============================] - 62s 1ms/step - loss: 0.1019 - val_loss: 0.1002\n",
      "Epoch 44/50\n",
      "60000/60000 [==============================] - 62s 1ms/step - loss: 0.1017 - val_loss: 0.1019\n",
      "Epoch 45/50\n",
      "60000/60000 [==============================] - 62s 1ms/step - loss: 0.1016 - val_loss: 0.1032\n",
      "Epoch 46/50\n",
      "60000/60000 [==============================] - 62s 1ms/step - loss: 0.1019 - val_loss: 0.0997\n",
      "Epoch 47/50\n",
      "60000/60000 [==============================] - 62s 1ms/step - loss: 0.1015 - val_loss: 0.0997\n",
      "Epoch 48/50\n",
      "60000/60000 [==============================] - 62s 1ms/step - loss: 0.1012 - val_loss: 0.0996\n",
      "Epoch 49/50\n",
      "60000/60000 [==============================] - 63s 1ms/step - loss: 0.1014 - val_loss: 0.1013\n",
      "Epoch 50/50\n",
      "60000/60000 [==============================] - 63s 1ms/step - loss: 0.1012 - val_loss: 0.1005\n"
     ]
    },
    {
     "data": {
      "text/plain": [
       "<keras.callbacks.History at 0x7fb069420940>"
      ]
     },
     "execution_count": 15,
     "metadata": {},
     "output_type": "execute_result"
    }
   ],
   "source": [
    "autoencoder.fit(x_train, x_train,epochs=50,batch_size=128,shuffle=True,validation_data=(x_test, x_test))"
   ]
  },
  {
   "cell_type": "code",
   "execution_count": 25,
   "metadata": {},
   "outputs": [
    {
     "data": {
      "text/plain": [
       "<matplotlib.figure.Figure at 0x7fb0918ee908>"
      ]
     },
     "metadata": {},
     "output_type": "display_data"
    },
    {
     "data": {
      "text/plain": [
       "<matplotlib.figure.Figure at 0x7fb08725dac8>"
      ]
     },
     "metadata": {},
     "output_type": "display_data"
    },
    {
     "data": {
      "image/png": "[encoded data removed]",
      "text/plain": [
       "<matplotlib.figure.Figure at 0x7fb087207c88>"
      ]
     },
     "metadata": {},
     "output_type": "display_data"
    }
   ],
   "source": [
    "decoded_image= autoencoder.predict(x_test)\n",
    "\n",
    "import matplotlib.pyplot as plt\n",
    "\n",
    "plt.figure(figsize=(20,4))\n",
    "for i in range(10):\n",
    "    sub= plt.subplot(2,10,i+1)\n",
    "    plt.imshow(x_test[i].reshape(28,28))\n",
    "    plt.gray()\n",
    "    sub.get_xaxis().set_visible(False)\n",
    "    sub.get_yaxis().set_visible(False)\n",
    "    \n",
    "    sub= plt.subplot(2,10,i+10+1)\n",
    "    plt.imshow(decoded_image[i].reshape(28,28))\n",
    "    plt.gray()\n",
    "    sub.get_xaxis().set_visible(False)\n",
    "    sub.get_yaxis().set_visible(False)\n",
    "plt.show()    "
   ]
  },
  {
   "cell_type": "code",
   "execution_count": null,
   "metadata": {},
   "outputs": [],
   "source": []
  },
  {
   "cell_type": "code",
   "execution_count": null,
   "metadata": {
    "collapsed": true
   },
   "outputs": [],
   "source": []
  },
  {
   "cell_type": "code",
   "execution_count": null,
   "metadata": {
    "collapsed": true
   },
   "outputs": [],
   "source": []
  }
 ],
 "metadata": {
  "kernelspec": {
   "display_name": "Python 3",
   "language": "python",
   "name": "python3"
  },
  "language_info": {
   "codemirror_mode": {
    "name": "ipython",
    "version": 3
   },
   "file_extension": ".py",
   "mimetype": "text/x-python",
   "name": "python",
   "nbconvert_exporter": "python",
   "pygments_lexer": "ipython3",
   "version": "3.6.3"
  }
 },
 "nbformat": 4,
 "nbformat_minor": 2
}
